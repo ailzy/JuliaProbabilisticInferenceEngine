{
 "cells": [
  {
   "cell_type": "code",
   "execution_count": 1,
   "metadata": {
    "collapsed": false
   },
   "outputs": [
    {
     "name": "stdout",
     "output_type": "stream",
     "text": [
      "\n",
      "Available Demos:\n",
      "\n",
      "demoBurglar.jl\n",
      "demoBurglarDictPot.jl\n",
      "demoBurglarSimple.jl\n",
      "demoChainIndepRational.jl\n",
      "demoHMMInferenceFG.jl\n",
      "demoHMMInferenceSimple.jl\n",
      "demoHMMlearn.jl\n",
      "demoMaxProd.jl\n",
      "demoPlotDAG.jl\n",
      "demoPotLogArray.jl\n",
      "demoSumProd.jl\n",
      "demoSumProdStandardiseVariables.jl\n"
     ]
    },
    {
     "name": "stderr",
     "output_type": "stream",
     "text": [
      "INFO: Loading help data...\n"
     ]
    }
   ],
   "source": [
    "cd(\"/Users/elfflorin/Documents/Projects/julia.hw/jpie\");\n",
    "using Lexicon;\n",
    "using brml;"
   ]
  },
  {
   "cell_type": "markdown",
   "metadata": {},
   "source": [
    "The domain for visible states: $V = \\{1, 2, 3, 4, 5\\}$  <br/>\n",
    "The domain for hidden states: $H = \\{1, 2, 3, 4, 5, 6, 7, 8, 9, 10\\}$ <br/>\n",
    "The number of timesteps: $T = 20$"
   ]
  },
  {
   "cell_type": "code",
   "execution_count": 17,
   "metadata": {
    "collapsed": false
   },
   "outputs": [
    {
     "data": {
      "text/plain": [
       "20"
      ]
     },
     "execution_count": 17,
     "metadata": {},
     "output_type": "execute_result"
    }
   ],
   "source": [
    "V = 5  # number of visible states\n",
    "H = 10 # number of hidden states\n",
    "T = 20 # number of timesteps"
   ]
  },
  {
   "cell_type": "markdown",
   "metadata": {},
   "source": [
    "Initialize the time-series vectors **h, v** for the hidden and visible variables"
   ]
  },
  {
   "cell_type": "code",
   "execution_count": 3,
   "metadata": {
    "collapsed": false
   },
   "outputs": [
    {
     "data": {
      "text/plain": [
       "1x20 Array{Int64,2}:\n",
       " 0  0  0  0  0  0  0  0  0  0  0  0  0  0  0  0  0  0  0  0"
      ]
     },
     "execution_count": 3,
     "metadata": {},
     "output_type": "execute_result"
    }
   ],
   "source": [
    "h = zeros(Int64,1,T) # holds the state value for the hidden variable at a specific timestep\n",
    "v = zeros(Int64,1,T) # holds the state value for the visible variable at a specific timestep"
   ]
  },
  {
   "cell_type": "markdown",
   "metadata": {},
   "source": [
    "The probabilities for the hidden variable states at timestep 1: $p(h_{1})$ "
   ]
  },
  {
   "cell_type": "code",
   "execution_count": 4,
   "metadata": {
    "collapsed": false
   },
   "outputs": [
    {
     "data": {
      "text/plain": [
       "10x1 Array{Float64,2}:\n",
       " 0.0521677\n",
       " 0.0533665\n",
       " 0.175184 \n",
       " 0.0878741\n",
       " 0.0595795\n",
       " 0.0717847\n",
       " 0.0986391\n",
       " 0.206537 \n",
       " 0.0487324\n",
       " 0.146135 "
      ]
     },
     "execution_count": 4,
     "metadata": {},
     "output_type": "execute_result"
    }
   ],
   "source": [
    "ph1 = condp(rand(H,1)) # probabilities for the states of the hidden variable at timestep 1"
   ]
  },
  {
   "cell_type": "markdown",
   "metadata": {},
   "source": [
    "Initialize the transition matrix **$phghm_{10x10}$** with\n",
    "$$\\begin{eqnarray}\n",
    "  phghm(i, j) = p(h_t = i | h_{t-1} = j) \\\\\n",
    "  \\sum_{i = 1}^{10} phghm(i, j) = 1\n",
    " \\end{eqnarray}\n",
    "$$"
   ]
  },
  {
   "cell_type": "code",
   "execution_count": 5,
   "metadata": {
    "collapsed": false
   },
   "outputs": [
    {
     "data": {
      "text/plain": [
       "10x10 Array{Float64,2}:\n",
       " 2.22507e-308  2.22507e-308  2.22507e-308  …  2.22507e-308  2.22507e-308\n",
       " 2.22507e-308  1.0           2.22507e-308     2.22507e-308  2.22507e-308\n",
       " 2.22507e-308  2.22507e-308  2.22507e-308     1.0           2.22507e-308\n",
       " 2.22507e-308  2.22507e-308  1.0              2.22507e-308  2.22507e-308\n",
       " 2.22507e-308  2.22507e-308  2.22507e-308     2.22507e-308  2.22507e-308\n",
       " 1.0           2.22507e-308  2.22507e-308  …  2.22507e-308  2.22507e-308\n",
       " 2.22507e-308  2.22507e-308  2.22507e-308     2.22507e-308  1.0         \n",
       " 2.22507e-308  2.22507e-308  2.22507e-308     2.22507e-308  2.22507e-308\n",
       " 2.22507e-308  2.22507e-308  2.22507e-308     2.22507e-308  2.22507e-308\n",
       " 2.22507e-308  2.22507e-308  2.22507e-308     2.22507e-308  2.22507e-308"
      ]
     },
     "execution_count": 5,
     "metadata": {},
     "output_type": "execute_result"
    }
   ],
   "source": [
    "phghm=condp(eye(H,H)) # transition matrix with sum(phghm, 1) = 1 with phghm[i, j] = p(hg=i | hm=j), hg @t, hm @t-1\n",
    "# shuffle the column data in phghm while keeping sum(phghm, 1) = 1\n",
    "# done as below no 2 columns have value 1.0 on the same row\n",
    "phghmtmp=condp(eye(H,H))\n",
    "r = randperm(H)\n",
    "for (i, value) in enumerate(r)\n",
    "    phghm[:, i] = phghmtmp[:, value]\n",
    "end\n",
    "phghm"
   ]
  },
  {
   "cell_type": "markdown",
   "metadata": {},
   "source": [
    "Initialize the emission matrix **$pvgh \\in R^{5x10}$** with\n",
    "$$\\begin{eqnarray}\n",
    "  pvgh(i, j) = p(v_t = i | h_{t} = j) \\\\\n",
    "  \\sum_{i = 1}^{5} pvgh(i, j) = 1\n",
    " \\end{eqnarray}\n",
    "$$"
   ]
  },
  {
   "cell_type": "code",
   "execution_count": 6,
   "metadata": {
    "collapsed": false
   },
   "outputs": [
    {
     "data": {
      "text/plain": [
       "5x10 Array{Float64,2}:\n",
       " 0.359977   0.0494751  0.350491  0.0844838  …  0.142234   0.095741  0.175814 \n",
       " 0.163257   0.0340671  0.140025  0.102918      0.315819   0.269041  0.32263  \n",
       " 0.310087   0.196719   0.290668  0.330373      0.0643657  0.269051  0.13493  \n",
       " 0.0636661  0.360367   0.107509  0.416339      0.244638   0.184172  0.268939 \n",
       " 0.103012   0.359372   0.111308  0.0658863     0.232944   0.181995  0.0976883"
      ]
     },
     "execution_count": 6,
     "metadata": {},
     "output_type": "execute_result"
    }
   ],
   "source": [
    "pvgh=condp((rand(V,H))) # emision matrix with sum(pvgh, 1) = 1 with pvgh[i, j] = p(vg = i | h = j), vg, h @ t"
   ]
  },
  {
   "cell_type": "code",
   "execution_count": 7,
   "metadata": {
    "collapsed": false
   },
   "outputs": [],
   "source": [
    "h[1]=randgen(ph1) # initialize the hidden variable @t=1 with a random state based on ph1 distribution\n",
    "v[1]=randgen(pvgh[:,h[1]]) # initialize the visible variable @t=1 with a random state based on pvgh( vg | h@t=1)\n",
    "\n",
    "for t=2:T\n",
    "    h[t]=randgen(phghm[:,h[t-1]]) # set the hidden variable state @t based on h@t-1 using the transition matrix\n",
    "    v[t]=randgen(pvgh[:,h[t]]) # set the visible variable state @t based on h@t using the emission matrix\n",
    "end"
   ]
  },
  {
   "cell_type": "code",
   "execution_count": 8,
   "metadata": {
    "collapsed": false
   },
   "outputs": [
    {
     "name": "stdout",
     "output_type": "stream",
     "text": [
      "Log Likelihood = -32.57227509471336\n"
     ]
    }
   ],
   "source": [
    "(alpha, loglik) = HMMforward(v, phghm, ph1, pvgh); # filtering\n",
    "println(\"Log Likelihood = $loglik\")"
   ]
  },
  {
   "cell_type": "code",
   "execution_count": 9,
   "metadata": {
    "collapsed": false
   },
   "outputs": [
    {
     "data": {
      "text/plain": [
       "10x20 Array{Float64,2}:\n",
       " 0.0126897    0.1381       0.000348185  …  0.0126897    0.1381     \n",
       " 0.000150879  0.000150879  0.000150879     0.000150879  0.000150879\n",
       " 0.667196     0.0175462    9.58719e-5      0.667196     0.0175462  \n",
       " 0.000348185  0.667196     0.0175462       0.000348185  0.667196   \n",
       " 0.0235316    0.0235316    0.0235316       0.0235316    0.0235316  \n",
       " 9.58719e-5   0.0126897    0.1381       …  9.58719e-5   0.0126897  \n",
       " 0.0366093    0.103732     0.0366093       0.0366093    0.103732   \n",
       " 0.1381       0.000348185  0.667196        0.1381       0.000348185\n",
       " 0.0175462    9.58719e-5   0.0126897       0.0175462    9.58719e-5 \n",
       " 0.103732     0.0366093    0.103732        0.103732     0.0366093  "
      ]
     },
     "execution_count": 9,
     "metadata": {},
     "output_type": "execute_result"
    }
   ],
   "source": [
    "gamma = HMMsmooth(v, phghm, ph1, pvgh, alpha); # smoothing"
   ]
  },
  {
   "cell_type": "code",
   "execution_count": 10,
   "metadata": {
    "collapsed": false
   },
   "outputs": [
    {
     "name": "stdout",
     "output_type": "stream",
     "text": [
      "most likely path (viterbi):\n",
      "[3 4 8 1 6 9 3 4 8 1 6 9 3 4 8 1 6 9 3 4]\n"
     ]
    }
   ],
   "source": [
    "(maxstate, logprob) = HMMviterbi(v, phghm, ph1, pvgh)\n",
    "println(\"most likely path (viterbi):\")\n",
    "println(maxstate)"
   ]
  },
  {
   "cell_type": "code",
   "execution_count": 11,
   "metadata": {
    "collapsed": false
   },
   "outputs": [
    {
     "name": "stdout",
     "output_type": "stream",
     "text": [
      "original path (hidden states):\n",
      "[3 4 8 1 6 9 3 4 8 1 6 9 3 4 8 1 6 9 3 4]\n"
     ]
    }
   ],
   "source": [
    "println(\"original path (hidden states):\")\n",
    "println(h)"
   ]
  },
  {
   "cell_type": "code",
   "execution_count": 12,
   "metadata": {
    "collapsed": false
   },
   "outputs": [
    {
     "name": "stdout",
     "output_type": "stream",
     "text": [
      "original path (visible states):\n",
      "[5 2 4 5 5 2 2 3 5 3 3 3 2 3 2 4 3 3 1 4]\n"
     ]
    }
   ],
   "source": [
    "println(\"original path (visible states):\")\n",
    "println(v)"
   ]
  },
  {
   "cell_type": "code",
   "execution_count": 13,
   "metadata": {
    "collapsed": false
   },
   "outputs": [
    {
     "data": {
      "image/png": "[encoded data removed]",
      "text/plain": [
       "Figure(PyObject <matplotlib.figure.Figure object at 0x10d042b90>)"
      ]
     },
     "metadata": {},
     "output_type": "display_data"
    },
    {
     "data": {
      "text/plain": [
       "Figure(PyObject <matplotlib.figure.Figure object at 0x113345110>)"
      ]
     },
     "execution_count": 13,
     "metadata": {},
     "output_type": "execute_result"
    }
   ],
   "source": [
    "PyPlot.pcolor(alpha); PyPlot.suptitle(\"filtering\")\n",
    "PyPlot.figure()"
   ]
  },
  {
   "cell_type": "code",
   "execution_count": 14,
   "metadata": {
    "collapsed": false
   },
   "outputs": [
    {
     "data": {
      "image/png": "[encoded data removed]",
      "text/plain": [
       "Figure(PyObject <matplotlib.figure.Figure object at 0x112c4cbd0>)"
      ]
     },
     "metadata": {},
     "output_type": "display_data"
    },
    {
     "data": {
      "text/plain": [
       "PyObject <matplotlib.text.Text object at 0x10c956790>"
      ]
     },
     "execution_count": 14,
     "metadata": {},
     "output_type": "execute_result"
    }
   ],
   "source": [
    "PyPlot.pcolor(gamma); PyPlot.suptitle(\"smoothing\")"
   ]
  },
  {
   "cell_type": "code",
   "execution_count": 15,
   "metadata": {
    "collapsed": false
   },
   "outputs": [
    {
     "data": {
      "text/plain": [
       "10x20 Array{Float64,2}:\n",
       " 0.0126897    0.1381       0.000348185  …  0.0126897    0.1381     \n",
       " 0.000150879  0.000150879  0.000150879     0.000150879  0.000150879\n",
       " 0.667196     0.0175462    9.58719e-5      0.667196     0.0175462  \n",
       " 0.000348185  0.667196     0.0175462       0.000348185  0.667196   \n",
       " 0.0235316    0.0235316    0.0235316       0.0235316    0.0235316  \n",
       " 9.58719e-5   0.0126897    0.1381       …  9.58719e-5   0.0126897  \n",
       " 0.0366093    0.103732     0.0366093       0.0366093    0.103732   \n",
       " 0.1381       0.000348185  0.667196        0.1381       0.000348185\n",
       " 0.0175462    9.58719e-5   0.0126897       0.0175462    9.58719e-5 \n",
       " 0.103732     0.0366093    0.103732        0.103732     0.0366093  "
      ]
     },
     "execution_count": 15,
     "metadata": {},
     "output_type": "execute_result"
    }
   ],
   "source": [
    "gamma"
   ]
  },
  {
   "cell_type": "code",
   "execution_count": 16,
   "metadata": {
    "collapsed": false
   },
   "outputs": [
    {
     "name": "stdout",
     "output_type": "stream",
     "text": [
      "Symbol not found. Falling back on apropos search ...\n",
      "\n",
      "\n",
      "Plot the autocorrelation of `x`.\n",
      "\n",
      "Create a pseudocolor plot of a 2-D array.\n",
      "Draw contours on an unstructured triangular grid.\n",
      "Plot a quadrilateral mesh.\n",
      "Set the current rc params.  Group is the grouping for the rc, e.g.,\n",
      "Plot the sparsity pattern on a 2-D array.\n",
      "\n",
      "\n",
      "Make a plot with log scaling on the *x* axis.\n",
      "Draw contours on an unstructured triangular grid.\n",
      "\n",
      "\n",
      "Read an image from a file into an array.\n",
      "Connect event with string *s* to *func*.  The signature of *func* is::\n",
      "Make a plot with log scaling on both the *x* and *y* axis.\n",
      "Add text to figure.\n",
      "\n",
      "Plot filled polygons.\n",
      "\n",
      "Plot contours.\n",
      "\n",
      "Plot with data with dates.\n",
      "Base.linreg(x, y) -> [a; b]\n",
      "Base.linreg(x, y, w)\n",
      "\n",
      "Plot contours.\n",
      "Make a step plot.\n",
      "\n",
      "Plot a histogram.\n",
      "\n"
     ]
    }
   ],
   "source": [
    "help(PyPlot)"
   ]
  },
  {
   "cell_type": "code",
   "execution_count": null,
   "metadata": {
    "collapsed": true
   },
   "outputs": [],
   "source": []
  }
 ],
 "metadata": {
  "kernelspec": {
   "display_name": "Julia 0.3.11",
   "language": "julia",
   "name": "julia-0.3"
  },
  "language_info": {
   "name": "julia",
   "version": "0.3.11"
  }
 },
 "nbformat": 4,
 "nbformat_minor": 0
}
