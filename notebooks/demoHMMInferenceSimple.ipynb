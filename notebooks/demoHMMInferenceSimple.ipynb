{
 "cells": [
  {
   "cell_type": "code",
   "execution_count": 235,
   "metadata": {
    "collapsed": false
   },
   "outputs": [],
   "source": [
    "cd(\"/change-to-brml.jl-full-path\");\n",
    "using Lexicon;\n",
    "using brml;"
   ]
  },
  {
   "cell_type": "markdown",
   "metadata": {},
   "source": [
    "The domain for visible states: $V = \\{1, 2, 3, 4, 5\\}$  <br/>\n",
    "The domain for hidden states: $H = \\{1, 2, 3, 4, 5, 6, 7, 8, 9, 10\\}$ <br/>\n",
    "The number of timesteps: $T = 20$"
   ]
  },
  {
   "cell_type": "code",
   "execution_count": 236,
   "metadata": {
    "collapsed": false
   },
   "outputs": [
    {
     "data": {
      "text/plain": [
       "20"
      ]
     },
     "execution_count": 236,
     "metadata": {},
     "output_type": "execute_result"
    }
   ],
   "source": [
    "V = 5  # number of visible states\n",
    "H = 10 # number of hidden states\n",
    "T = 20 # number of timesteps"
   ]
  },
  {
   "cell_type": "markdown",
   "metadata": {},
   "source": [
    "Initialize the time-series vectors **h, v** for the hidden and visible variables"
   ]
  },
  {
   "cell_type": "code",
   "execution_count": 237,
   "metadata": {
    "collapsed": false
   },
   "outputs": [
    {
     "data": {
      "text/plain": [
       "1x20 Array{Int64,2}:\n",
       " 0  0  0  0  0  0  0  0  0  0  0  0  0  0  0  0  0  0  0  0"
      ]
     },
     "execution_count": 237,
     "metadata": {},
     "output_type": "execute_result"
    }
   ],
   "source": [
    "h = zeros(Int64,1,T) # holds the state value for the hidden variable at a specific timestep\n",
    "v = zeros(Int64,1,T) # holds the state value for the visible variable at a specific timestep"
   ]
  },
  {
   "cell_type": "markdown",
   "metadata": {},
   "source": [
    "The probabilities for the hidden variable states at timestep 1: $p(h_{1})$ "
   ]
  },
  {
   "cell_type": "code",
   "execution_count": 238,
   "metadata": {
    "collapsed": false
   },
   "outputs": [
    {
     "data": {
      "text/plain": [
       "10x1 Array{Float64,2}:\n",
       " 0.0722447\n",
       " 0.202653 \n",
       " 0.0865367\n",
       " 0.137265 \n",
       " 0.0442704\n",
       " 0.0979042\n",
       " 0.103764 \n",
       " 0.123422 \n",
       " 0.101669 \n",
       " 0.030272 "
      ]
     },
     "execution_count": 238,
     "metadata": {},
     "output_type": "execute_result"
    }
   ],
   "source": [
    "ph1 = condp(rand(H,1)) # probabilities for the states of the hidden variable at timestep 1"
   ]
  },
  {
   "cell_type": "markdown",
   "metadata": {},
   "source": [
    "Initialize the transition matrix **$phghm_{10x10}$** with\n",
    "$$\\begin{eqnarray}\n",
    "  phghm(i, j) = p(h_t = i | h_{t-1} = j) \\\\\n",
    "  \\sum_{i = 1}^{10} phghm(i, j) = 1\n",
    " \\end{eqnarray}\n",
    "$$"
   ]
  },
  {
   "cell_type": "code",
   "execution_count": 239,
   "metadata": {
    "collapsed": false
   },
   "outputs": [
    {
     "data": {
      "text/plain": [
       "10x10 Array{Float64,2}:\n",
       " 2.22507e-308  2.22507e-308  1.0           …  2.22507e-308  2.22507e-308\n",
       " 1.0           2.22507e-308  2.22507e-308     2.22507e-308  2.22507e-308\n",
       " 2.22507e-308  2.22507e-308  2.22507e-308     2.22507e-308  1.0         \n",
       " 2.22507e-308  2.22507e-308  2.22507e-308     2.22507e-308  2.22507e-308\n",
       " 2.22507e-308  2.22507e-308  2.22507e-308     2.22507e-308  2.22507e-308\n",
       " 2.22507e-308  2.22507e-308  2.22507e-308  …  2.22507e-308  2.22507e-308\n",
       " 2.22507e-308  1.0           2.22507e-308     2.22507e-308  2.22507e-308\n",
       " 2.22507e-308  2.22507e-308  2.22507e-308     1.0           2.22507e-308\n",
       " 2.22507e-308  2.22507e-308  2.22507e-308     2.22507e-308  2.22507e-308\n",
       " 2.22507e-308  2.22507e-308  2.22507e-308     2.22507e-308  2.22507e-308"
      ]
     },
     "execution_count": 239,
     "metadata": {},
     "output_type": "execute_result"
    }
   ],
   "source": [
    "phghm=condp(eye(H,H)) # transition matrix with sum(phghm, 1) = 1 with phghm[i, j] = p(hg=i | hm=j), hg @t, hm @t-1\n",
    "# shuffle the column data in phghm while keeping sum(phghm, 1) = 1\n",
    "# done as below no 2 columns have value 1.0 on the same row\n",
    "phghmtmp=condp(eye(H,H))\n",
    "r = randperm(H)\n",
    "for (i, value) in enumerate(r)\n",
    "    phghm[:, i] = phghmtmp[:, value]\n",
    "end\n",
    "phghm"
   ]
  },
  {
   "cell_type": "markdown",
   "metadata": {},
   "source": [
    "Initialize the emission matrix **$pvgh_{5x10}$** with\n",
    "$$\\begin{eqnarray}\n",
    "  pvgh(i, j) = p(v_t = i | h_{t} = j) \\\\\n",
    "  \\sum_{i = 1}^{5} pvgh(i, j) = 1\n",
    " \\end{eqnarray}\n",
    "$$"
   ]
  },
  {
   "cell_type": "code",
   "execution_count": 240,
   "metadata": {
    "collapsed": false
   },
   "outputs": [
    {
     "data": {
      "text/plain": [
       "5x10 Array{Float64,2}:\n",
       " 0.173829  0.234554   0.175735  0.26851    …  0.106749   0.24563    0.0819659\n",
       " 0.208401  0.381474   0.122834  0.25862       0.487664   0.203008   0.403071 \n",
       " 0.222561  0.346394   0.31086   0.176035      0.0248792  0.0501948  0.163545 \n",
       " 0.210118  0.018554   0.235649  0.0728896     0.0112732  0.331044   0.124329 \n",
       " 0.185091  0.0190236  0.154922  0.223946      0.369435   0.170123   0.227089 "
      ]
     },
     "execution_count": 240,
     "metadata": {},
     "output_type": "execute_result"
    }
   ],
   "source": [
    "pvgh=condp((rand(V,H))) # emision matrix with sum(pvgh, 1) = 1 with pvgh[i, j] = p(vg = i | h = j), vg, h @ t"
   ]
  },
  {
   "cell_type": "code",
   "execution_count": 241,
   "metadata": {
    "collapsed": false
   },
   "outputs": [],
   "source": [
    "h[1]=randgen(ph1) # initialize the hidden variable @t=1 with a random state based on ph1 distribution\n",
    "v[1]=randgen(pvgh[:,h[1]]) # initialize the visible variable @t=1 with a random state based on pvgh( vg | h@t=1)\n",
    "\n",
    "for t=2:T\n",
    "    h[t]=randgen(phghm[:,h[t-1]]) # set the hidden variable state @t based on h@t-1 using the transition matrix\n",
    "    v[t]=randgen(pvgh[:,h[t]]) # set the visible variable state @t based on h@t using the emission matrix\n",
    "end"
   ]
  },
  {
   "cell_type": "code",
   "execution_count": 242,
   "metadata": {
    "collapsed": false
   },
   "outputs": [
    {
     "name": "stdout",
     "output_type": "stream",
     "text": [
      "Log Likelihood = -26.47558987523584\n"
     ]
    }
   ],
   "source": [
    "alpha, loglik = HMMforward(v, phghm, ph1, pvgh); # filtering\n",
    "println(\"Log Likelihood = $loglik\")"
   ]
  },
  {
   "cell_type": "code",
   "execution_count": 243,
   "metadata": {
    "collapsed": false
   },
   "outputs": [
    {
     "data": {
      "text/plain": [
       "10x20 Array{Float64,2}:\n",
       " 6.5615e-8    2.27592e-6   7.94521e-6   …  0.990546     0.000128015\n",
       " 6.18267e-8   6.5615e-8    2.27592e-6      8.21713e-5   0.990546   \n",
       " 2.27592e-6   7.94521e-6   8.21713e-5      0.000128015  6.18267e-8 \n",
       " 0.00769872   6.56304e-6   0.00769872      0.00769872   6.56304e-6 \n",
       " 0.00152834   0.00152834   0.00152834      0.00152834   0.00152834 \n",
       " 6.56304e-6   0.00769872   6.56304e-6   …  6.56304e-6   0.00769872 \n",
       " 0.000128015  6.18267e-8   6.5615e-8       7.94521e-6   8.21713e-5 \n",
       " 8.21713e-5   0.990546     0.000128015     6.5615e-8    2.27592e-6 \n",
       " 0.990546     0.000128015  6.18267e-8      2.27592e-6   7.94521e-6 \n",
       " 7.94521e-6   8.21713e-5   0.990546        6.18267e-8   6.5615e-8  "
      ]
     },
     "execution_count": 243,
     "metadata": {},
     "output_type": "execute_result"
    }
   ],
   "source": [
    "gamma = HMMsmooth(v, phghm, ph1, pvgh, alpha); # smoothing"
   ]
  },
  {
   "cell_type": "code",
   "execution_count": 244,
   "metadata": {
    "collapsed": false
   },
   "outputs": [
    {
     "name": "stdout",
     "output_type": "stream",
     "text": [
      "most likely path (viterbi):\n",
      "[9 8 10 3 1 2 7 9 8 10 3 1 2 7 9 8 10 3 1 2]\n"
     ]
    }
   ],
   "source": [
    "maxstate, logprob = HMMviterbi(v, phghm, ph1, pvgh)\n",
    "println(\"most likely path (viterbi):\")\n",
    "println(maxstate)"
   ]
  },
  {
   "cell_type": "code",
   "execution_count": 245,
   "metadata": {
    "collapsed": false
   },
   "outputs": [
    {
     "name": "stdout",
     "output_type": "stream",
     "text": [
      "original path (hidden states):\n",
      "[9 8 10 3 1 2 7 9 8 10 3 1 2 7 9 8 10 3 1 2]\n"
     ]
    }
   ],
   "source": [
    "println(\"original path (hidden states):\")\n",
    "println(h)"
   ]
  },
  {
   "cell_type": "code",
   "execution_count": 246,
   "metadata": {
    "collapsed": false
   },
   "outputs": [
    {
     "name": "stdout",
     "output_type": "stream",
     "text": [
      "original path (visible states):\n",
      "[4 2 2 3 3 1 5 2 5 2 4 3 2 1 2 2 2 3 5 3]\n"
     ]
    }
   ],
   "source": [
    "println(\"original path (visible states):\")\n",
    "println(v)"
   ]
  },
  {
   "cell_type": "code",
   "execution_count": 247,
   "metadata": {
    "collapsed": false
   },
   "outputs": [
    {
     "data": {
      "image/png": "[encoded data removed]",
      "text/plain": [
       "Figure(PyObject <matplotlib.figure.Figure object at 0x11ca2ad50>)"
      ]
     },
     "metadata": {},
     "output_type": "display_data"
    },
    {
     "data": {
      "text/plain": [
       "Figure(PyObject <matplotlib.figure.Figure object at 0x11ce4d490>)"
      ]
     },
     "execution_count": 247,
     "metadata": {},
     "output_type": "execute_result"
    }
   ],
   "source": [
    "PyPlot.pcolor(alpha); PyPlot.suptitle(\"filtering\")\n",
    "PyPlot.figure()"
   ]
  },
  {
   "cell_type": "code",
   "execution_count": 248,
   "metadata": {
    "collapsed": false
   },
   "outputs": [
    {
     "data": {
      "image/png": "[encoded data removed]",
      "text/plain": [
       "Figure(PyObject <matplotlib.figure.Figure object at 0x11c56c690>)"
      ]
     },
     "metadata": {},
     "output_type": "display_data"
    },
    {
     "data": {
      "text/plain": [
       "PyObject <matplotlib.text.Text object at 0x11d06ca10>"
      ]
     },
     "execution_count": 248,
     "metadata": {},
     "output_type": "execute_result"
    }
   ],
   "source": [
    "PyPlot.pcolor(gamma); PyPlot.suptitle(\"smoothing\")"
   ]
  },
  {
   "cell_type": "code",
   "execution_count": 249,
   "metadata": {
    "collapsed": false
   },
   "outputs": [
    {
     "data": {
      "text/plain": [
       "10x20 Array{Float64,2}:\n",
       " 6.5615e-8    2.27592e-6   7.94521e-6   …  0.990546     0.000128015\n",
       " 6.18267e-8   6.5615e-8    2.27592e-6      8.21713e-5   0.990546   \n",
       " 2.27592e-6   7.94521e-6   8.21713e-5      0.000128015  6.18267e-8 \n",
       " 0.00769872   6.56304e-6   0.00769872      0.00769872   6.56304e-6 \n",
       " 0.00152834   0.00152834   0.00152834      0.00152834   0.00152834 \n",
       " 6.56304e-6   0.00769872   6.56304e-6   …  6.56304e-6   0.00769872 \n",
       " 0.000128015  6.18267e-8   6.5615e-8       7.94521e-6   8.21713e-5 \n",
       " 8.21713e-5   0.990546     0.000128015     6.5615e-8    2.27592e-6 \n",
       " 0.990546     0.000128015  6.18267e-8      2.27592e-6   7.94521e-6 \n",
       " 7.94521e-6   8.21713e-5   0.990546        6.18267e-8   6.5615e-8  "
      ]
     },
     "execution_count": 249,
     "metadata": {},
     "output_type": "execute_result"
    }
   ],
   "source": [
    "gamma"
   ]
  },
  {
   "cell_type": "code",
   "execution_count": null,
   "metadata": {
    "collapsed": true
   },
   "outputs": [],
   "source": []
  }
 ],
 "metadata": {
  "kernelspec": {
   "display_name": "Julia 0.3.9",
   "language": "julia",
   "name": "julia-0.3"
  },
  "language_info": {
   "name": "julia",
   "version": "0.3.9"
  }
 },
 "nbformat": 4,
 "nbformat_minor": 0
}
