{
 "cells": [
  {
   "cell_type": "code",
   "execution_count": 1,
   "metadata": {
    "collapsed": false
   },
   "outputs": [
    {
     "name": "stdout",
     "output_type": "stream",
     "text": [
      "\n",
      "Available Demos:\n",
      "\n",
      "demoBurglar.jl\n",
      "demoBurglarDictPot.jl\n",
      "demoBurglarSimple.jl\n",
      "demoChainIndepRational.jl\n",
      "demoHMMInferenceFG.jl\n",
      "demoHMMInferenceSimple.jl\n",
      "demoHMMlearn.jl\n",
      "demoMaxProd.jl\n",
      "demoPlotDAG.jl\n",
      "demoPotLogArray.jl\n",
      "demoSumProd.jl\n",
      "demoSumProdStandardiseVariables.jl\n"
     ]
    },
    {
     "name": "stderr",
     "output_type": "stream",
     "text": [
      "INFO: Loading help data...\n"
     ]
    }
   ],
   "source": [
    "cd(\"/Users/elfflorin/Documents/Projects/julia.hw/jpie\");\n",
    "using Lexicon;\n",
    "using brml;"
   ]
  },
  {
   "cell_type": "markdown",
   "metadata": {},
   "source": [
    "The domain for visible states: $V = \\{1, 2, 3, 4, 5\\}$  <br/>\n",
    "The domain for hidden states: $H = \\{1, 2, 3, 4, 5, 6, 7, 8, 9, 10\\}$ <br/>\n",
    "The number of timesteps: $T = 20$"
   ]
  },
  {
   "cell_type": "code",
   "execution_count": 2,
   "metadata": {
    "collapsed": false
   },
   "outputs": [
    {
     "data": {
      "text/plain": [
       "20"
      ]
     },
     "execution_count": 2,
     "metadata": {},
     "output_type": "execute_result"
    }
   ],
   "source": [
    "V = 5  # number of visible states\n",
    "H = 10 # number of hidden states\n",
    "T = 20 # number of timesteps"
   ]
  },
  {
   "cell_type": "markdown",
   "metadata": {},
   "source": [
    "Initialize the time-series vectors **h, v** for the hidden and visible variables"
   ]
  },
  {
   "cell_type": "code",
   "execution_count": 17,
   "metadata": {
    "collapsed": false
   },
   "outputs": [
    {
     "data": {
      "text/plain": [
       "1x20 Array{Integer,2}:\n",
       " 0  0  0  0  0  0  0  0  0  0  0  0  0  0  0  0  0  0  0  0"
      ]
     },
     "execution_count": 17,
     "metadata": {},
     "output_type": "execute_result"
    }
   ],
   "source": [
    "h = zeros(Integer,1,T) # holds the state value for the hidden variable at a specific timestep\n",
    "v = zeros(Integer,1,T) # holds the state value for the visible variable at a specific timestep"
   ]
  },
  {
   "cell_type": "markdown",
   "metadata": {},
   "source": [
    "The probabilities for the hidden variable states at timestep 1: $p(h_{1})$ "
   ]
  },
  {
   "cell_type": "code",
   "execution_count": 4,
   "metadata": {
    "collapsed": false
   },
   "outputs": [
    {
     "data": {
      "text/plain": [
       "10x1 Array{Float64,2}:\n",
       " 0.0346346\n",
       " 0.0541398\n",
       " 0.0851892\n",
       " 0.106614 \n",
       " 0.0679381\n",
       " 0.150623 \n",
       " 0.149616 \n",
       " 0.0469823\n",
       " 0.219919 \n",
       " 0.0843433"
      ]
     },
     "execution_count": 4,
     "metadata": {},
     "output_type": "execute_result"
    }
   ],
   "source": [
    "ph1 = condp(rand(H,1)) # probabilities for the states of the hidden variable at timestep 1"
   ]
  },
  {
   "cell_type": "markdown",
   "metadata": {},
   "source": [
    "Initialize the transition matrix **$phghm_{10x10}$** with\n",
    "$$\\begin{eqnarray}\n",
    "  phghm(i, j) = p(h_t = i | h_{t-1} = j) \\\\\n",
    "  \\sum_{i = 1}^{10} phghm(i, j) = 1\n",
    " \\end{eqnarray}\n",
    "$$"
   ]
  },
  {
   "cell_type": "code",
   "execution_count": 5,
   "metadata": {
    "collapsed": false
   },
   "outputs": [
    {
     "data": {
      "text/plain": [
       "10x10 Array{Float64,2}:\n",
       " 2.22507e-308  2.22507e-308  2.22507e-308  …  2.22507e-308  2.22507e-308\n",
       " 2.22507e-308  2.22507e-308  2.22507e-308     2.22507e-308  2.22507e-308\n",
       " 2.22507e-308  2.22507e-308  2.22507e-308     2.22507e-308  2.22507e-308\n",
       " 2.22507e-308  1.0           2.22507e-308     2.22507e-308  2.22507e-308\n",
       " 2.22507e-308  2.22507e-308  2.22507e-308     2.22507e-308  2.22507e-308\n",
       " 2.22507e-308  2.22507e-308  2.22507e-308  …  2.22507e-308  2.22507e-308\n",
       " 2.22507e-308  2.22507e-308  2.22507e-308     1.0           2.22507e-308\n",
       " 1.0           2.22507e-308  2.22507e-308     2.22507e-308  2.22507e-308\n",
       " 2.22507e-308  2.22507e-308  1.0              2.22507e-308  2.22507e-308\n",
       " 2.22507e-308  2.22507e-308  2.22507e-308     2.22507e-308  1.0         "
      ]
     },
     "execution_count": 5,
     "metadata": {},
     "output_type": "execute_result"
    }
   ],
   "source": [
    "phghm=condp(eye(H,H)) # transition matrix with sum(phghm, 1) = 1 with phghm[i, j] = p(hg=i | hm=j), hg @t, hm @t-1\n",
    "# shuffle the column data in phghm while keeping sum(phghm, 1) = 1\n",
    "# done as below no 2 columns have value 1.0 on the same row\n",
    "phghmtmp=condp(eye(H,H))\n",
    "r = randperm(H)\n",
    "for (i, value) in enumerate(r)\n",
    "    phghm[:, i] = phghmtmp[:, value]\n",
    "end\n",
    "phghm"
   ]
  },
  {
   "cell_type": "markdown",
   "metadata": {},
   "source": [
    "Initialize the emission matrix **$pvgh \\in R^{5x10}$** with\n",
    "$$\\begin{eqnarray}\n",
    "  pvgh(i, j) = p(v_t = i | h_{t} = j) \\\\\n",
    "  \\sum_{i = 1}^{5} pvgh(i, j) = 1\n",
    " \\end{eqnarray}\n",
    "$$"
   ]
  },
  {
   "cell_type": "code",
   "execution_count": 6,
   "metadata": {
    "collapsed": false
   },
   "outputs": [
    {
     "data": {
      "text/plain": [
       "5x10 Array{Float64,2}:\n",
       " 0.242923  0.200209  0.28148    0.0908806  …  0.0722245  0.32939    0.216689 \n",
       " 0.138455  0.16897   0.027486   0.144491      0.275516   0.367327   0.0476552\n",
       " 0.252577  0.193486  0.487894   0.222074      0.298345   0.102871   0.312648 \n",
       " 0.154447  0.334592  0.0232612  0.241123      0.266386   0.13212    0.105934 \n",
       " 0.211599  0.102743  0.179879   0.301432      0.0875289  0.0682919  0.317073 "
      ]
     },
     "execution_count": 6,
     "metadata": {},
     "output_type": "execute_result"
    }
   ],
   "source": [
    "pvgh=condp((rand(V,H))) # emision matrix with sum(pvgh, 1) = 1 with pvgh[i, j] = p(vg = i | h = j), vg, h @ t"
   ]
  },
  {
   "cell_type": "code",
   "execution_count": 7,
   "metadata": {
    "collapsed": false
   },
   "outputs": [],
   "source": [
    "h[1]=randgen(ph1) # initialize the hidden variable @t=1 with a random state based on ph1 distribution\n",
    "v[1]=randgen(pvgh[:,h[1]]) # initialize the visible variable @t=1 with a random state based on pvgh( vg | h@t=1)\n",
    "\n",
    "for t=2:T\n",
    "    h[t]=randgen(phghm[:,h[t-1]]) # set the hidden variable state @t based on h@t-1 using the transition matrix\n",
    "    v[t]=randgen(pvgh[:,h[t]]) # set the visible variable state @t based on h@t using the emission matrix\n",
    "end"
   ]
  },
  {
   "cell_type": "code",
   "execution_count": 8,
   "metadata": {
    "collapsed": false
   },
   "outputs": [
    {
     "name": "stdout",
     "output_type": "stream",
     "text": [
      "Log Likelihood = -28.938123848609123\n"
     ]
    }
   ],
   "source": [
    "(alpha, loglik) = HMMforward(v, phghm, ph1, pvgh); # filtering\n",
    "println(\"Log Likelihood = $loglik\")"
   ]
  },
  {
   "cell_type": "code",
   "execution_count": 9,
   "metadata": {
    "collapsed": false
   },
   "outputs": [
    {
     "data": {
      "text/plain": [
       "10x20 Array{Float64,2}:\n",
       " 1.05302e-5   0.000167175  0.000624272  …  0.0182349    0.000559428\n",
       " 0.000624272  0.0182349    0.000559428     1.05302e-5   0.000167175\n",
       " 2.39498e-7   0.979505     1.4527e-5       1.4527e-5    5.50691e-6 \n",
       " 0.000167175  0.000624272  0.0182349       0.000559428  1.05302e-5 \n",
       " 0.0182349    0.000559428  1.05302e-5      0.000167175  0.000624272\n",
       " 0.979505     1.4527e-5    5.50691e-6   …  5.50691e-6   2.39498e-7 \n",
       " 1.4527e-5    5.50691e-6   2.39498e-7      2.39498e-7   0.979505   \n",
       " 0.000559428  1.05302e-5   0.000167175     0.000624272  0.0182349  \n",
       " 5.50691e-6   2.39498e-7   0.979505        0.979505     1.4527e-5  \n",
       " 0.000878749  0.000878749  0.000878749     0.000878749  0.000878749"
      ]
     },
     "execution_count": 9,
     "metadata": {},
     "output_type": "execute_result"
    }
   ],
   "source": [
    "gamma = HMMsmooth(v, phghm, ph1, pvgh, alpha); # smoothing"
   ]
  },
  {
   "cell_type": "code",
   "execution_count": 10,
   "metadata": {
    "collapsed": false
   },
   "outputs": [
    {
     "name": "stdout",
     "output_type": "stream",
     "text": [
      "most likely path (viterbi):\n",
      "[6 3 9 7 6 3 9 7 6 3 9 7 6 3 9 7 6 3 9 7]\n"
     ]
    }
   ],
   "source": [
    "(maxstate, logprob) = HMMviterbi(v, phghm, ph1, pvgh)\n",
    "println(\"most likely path (viterbi):\")\n",
    "println(maxstate)"
   ]
  },
  {
   "cell_type": "code",
   "execution_count": 11,
   "metadata": {
    "collapsed": false
   },
   "outputs": [
    {
     "name": "stdout",
     "output_type": "stream",
     "text": [
      "original path (hidden states):\n",
      "[6 3 9 7 6 3 9 7 6 3 9 7 6 3 9 7 6 3 9 7]\n"
     ]
    }
   ],
   "source": [
    "println(\"original path (hidden states):\")\n",
    "println(h)"
   ]
  },
  {
   "cell_type": "code",
   "execution_count": 12,
   "metadata": {
    "collapsed": false
   },
   "outputs": [
    {
     "name": "stdout",
     "output_type": "stream",
     "text": [
      "original path (visible states):\n",
      "[3 3 5 1 4 1 1 4 4 3 4 1 3 5 1 1 2 5 2 3]\n"
     ]
    }
   ],
   "source": [
    "println(\"original path (visible states):\")\n",
    "println(v)"
   ]
  },
  {
   "cell_type": "code",
   "execution_count": 13,
   "metadata": {
    "collapsed": false
   },
   "outputs": [
    {
     "data": {
      "image/png": "[encoded data removed]",
      "text/plain": [
       "Figure(PyObject <matplotlib.figure.Figure object at 0x1143c7b90>)"
      ]
     },
     "metadata": {},
     "output_type": "display_data"
    },
    {
     "data": {
      "text/plain": [
       "Figure(PyObject <matplotlib.figure.Figure object at 0x10b3dc150>)"
      ]
     },
     "execution_count": 13,
     "metadata": {},
     "output_type": "execute_result"
    }
   ],
   "source": [
    "PyPlot.pcolor(alpha); PyPlot.suptitle(\"filtering\")\n",
    "PyPlot.figure()"
   ]
  },
  {
   "cell_type": "code",
   "execution_count": 14,
   "metadata": {
    "collapsed": false
   },
   "outputs": [
    {
     "data": {
      "image/png": "[encoded data removed]",
      "text/plain": [
       "Figure(PyObject <matplotlib.figure.Figure object at 0x113ac1d90>)"
      ]
     },
     "metadata": {},
     "output_type": "display_data"
    },
    {
     "data": {
      "text/plain": [
       "PyObject <matplotlib.text.Text object at 0x114c537d0>"
      ]
     },
     "execution_count": 14,
     "metadata": {},
     "output_type": "execute_result"
    }
   ],
   "source": [
    "PyPlot.pcolor(gamma); PyPlot.suptitle(\"smoothing\")"
   ]
  },
  {
   "cell_type": "code",
   "execution_count": null,
   "metadata": {
    "collapsed": true
   },
   "outputs": [],
   "source": []
  }
 ],
 "metadata": {
  "kernelspec": {
   "display_name": "Julia 0.3.11",
   "language": "julia",
   "name": "julia-0.3"
  },
  "language_info": {
   "name": "julia",
   "version": "0.3.11"
  }
 },
 "nbformat": 4,
 "nbformat_minor": 0
}
