{
 "cells": [
  {
   "cell_type": "code",
   "execution_count": 1,
   "metadata": {
    "collapsed": false
   },
   "outputs": [
    {
     "name": "stdout",
     "output_type": "stream",
     "text": [
      "\n",
      "Available Demos:\n",
      "\n",
      "demoBurglar.jl\n",
      "demoBurglarDictPot.jl\n",
      "demoBurglarSimple.jl\n",
      "demoChainIndepRational.jl\n",
      "demoHMMInferenceFG.jl\n",
      "demoHMMInferenceSimple.jl\n",
      "demoHMMLearn.jl\n",
      "demoMaxProd.jl\n",
      "demoPlotDAG.jl\n",
      "demoPotLogArray.jl\n",
      "demoSumProd.jl\n",
      "demoSumProdStandardiseVariables.jl\n"
     ]
    },
    {
     "name": "stderr",
     "output_type": "stream",
     "text": [
      "INFO: Loading help data...\n"
     ]
    }
   ],
   "source": [
    "cd(\"/Users/elfflorin/Documents/Projects/julia.hw/jpie\");\n",
    "using Lexicon;\n",
    "using brml;"
   ]
  },
  {
   "cell_type": "markdown",
   "metadata": {},
   "source": [
    "The domain for visible states: $V = \\{1, 2, 3, 4, 5\\}$  <br/>\n",
    "The domain for hidden states: $H = \\{1, 2, 3, 4, 5, 6, 7, 8, 9, 10\\}$ <br/>\n",
    "The number of timesteps: $T = 20$"
   ]
  },
  {
   "cell_type": "code",
   "execution_count": 2,
   "metadata": {
    "collapsed": false
   },
   "outputs": [
    {
     "data": {
      "text/plain": [
       "20"
      ]
     },
     "execution_count": 2,
     "metadata": {},
     "output_type": "execute_result"
    }
   ],
   "source": [
    "V = 5  # number of visible states\n",
    "H = 10 # number of hidden states\n",
    "T = 20 # number of timesteps"
   ]
  },
  {
   "cell_type": "markdown",
   "metadata": {},
   "source": [
    "Initialize the time-series vectors **h, v** for the hidden and visible variables"
   ]
  },
  {
   "cell_type": "code",
   "execution_count": 3,
   "metadata": {
    "collapsed": false
   },
   "outputs": [
    {
     "data": {
      "text/plain": [
       "1x20 Array{Integer,2}:\n",
       " 0  0  0  0  0  0  0  0  0  0  0  0  0  0  0  0  0  0  0  0"
      ]
     },
     "execution_count": 3,
     "metadata": {},
     "output_type": "execute_result"
    }
   ],
   "source": [
    "h = zeros(Integer,1,T) # holds the state value for the hidden variable at a specific timestep\n",
    "v = zeros(Integer,1,T) # holds the state value for the visible variable at a specific timestep"
   ]
  },
  {
   "cell_type": "markdown",
   "metadata": {},
   "source": [
    "The probabilities for the hidden variable states at timestep 1: $p(h_{1})$ "
   ]
  },
  {
   "cell_type": "code",
   "execution_count": 4,
   "metadata": {
    "collapsed": false
   },
   "outputs": [
    {
     "data": {
      "text/plain": [
       "10x1 Array{Float64,2}:\n",
       " 0.110904 \n",
       " 0.03057  \n",
       " 0.0990172\n",
       " 0.148372 \n",
       " 0.025506 \n",
       " 0.0402466\n",
       " 0.130892 \n",
       " 0.0571803\n",
       " 0.13815  \n",
       " 0.219162 "
      ]
     },
     "execution_count": 4,
     "metadata": {},
     "output_type": "execute_result"
    }
   ],
   "source": [
    "ph1 = condp(rand(H,1)) # probabilities for the states of the hidden variable at timestep 1"
   ]
  },
  {
   "cell_type": "markdown",
   "metadata": {},
   "source": [
    "Initialize the transition matrix **$phghm_{10x10}$** with\n",
    "$$\\begin{eqnarray}\n",
    "  phghm(i, j) = p(h_t = i | h_{t-1} = j) \\\\\n",
    "  \\sum_{i = 1}^{10} phghm(i, j) = 1\n",
    " \\end{eqnarray}\n",
    "$$"
   ]
  },
  {
   "cell_type": "code",
   "execution_count": 5,
   "metadata": {
    "collapsed": false
   },
   "outputs": [
    {
     "data": {
      "text/plain": [
       "10x10 Array{Float64,2}:\n",
       " 2.22507e-308  2.22507e-308  2.22507e-308  …  2.22507e-308  2.22507e-308\n",
       " 1.0           2.22507e-308  2.22507e-308     2.22507e-308  2.22507e-308\n",
       " 2.22507e-308  2.22507e-308  1.0              2.22507e-308  2.22507e-308\n",
       " 2.22507e-308  2.22507e-308  2.22507e-308     2.22507e-308  2.22507e-308\n",
       " 2.22507e-308  2.22507e-308  2.22507e-308     2.22507e-308  2.22507e-308\n",
       " 2.22507e-308  2.22507e-308  2.22507e-308  …  1.0           2.22507e-308\n",
       " 2.22507e-308  1.0           2.22507e-308     2.22507e-308  2.22507e-308\n",
       " 2.22507e-308  2.22507e-308  2.22507e-308     2.22507e-308  2.22507e-308\n",
       " 2.22507e-308  2.22507e-308  2.22507e-308     2.22507e-308  1.0         \n",
       " 2.22507e-308  2.22507e-308  2.22507e-308     2.22507e-308  2.22507e-308"
      ]
     },
     "execution_count": 5,
     "metadata": {},
     "output_type": "execute_result"
    }
   ],
   "source": [
    "phghm=condp(eye(H,H)) # transition matrix with sum(phghm, 1) = 1 with phghm[i, j] = p(hg=i | hm=j)\n",
    "# shuffle the column data in phghm while keeping sum(phghm, 1) = 1\n",
    "# done as below no 2 columns have value 1.0 on the same row\n",
    "phghmtmp=condp(eye(H,H))\n",
    "r = randperm(H)\n",
    "for (i, value) in enumerate(r)\n",
    "    phghm[:, i] = phghmtmp[:, value]\n",
    "end\n",
    "phghm"
   ]
  },
  {
   "cell_type": "markdown",
   "metadata": {},
   "source": [
    "Initialize the emission matrix **$pvgh \\in R^{5x10}$** with\n",
    "$$\\begin{eqnarray}\n",
    "  pvgh(i, j) = p(v_t = i | h_{t} = j) \\\\\n",
    "  \\sum_{i = 1}^{5} pvgh(i, j) = 1\n",
    " \\end{eqnarray}\n",
    "$$"
   ]
  },
  {
   "cell_type": "code",
   "execution_count": 6,
   "metadata": {
    "collapsed": false
   },
   "outputs": [
    {
     "data": {
      "text/plain": [
       "5x10 Array{Float64,2}:\n",
       " 0.254763   0.270081   0.12941    …  0.203513   0.322304   0.283919 \n",
       " 0.25293    0.205646   0.265677      0.325654   0.238581   0.148964 \n",
       " 0.274729   0.293715   0.0729654     0.0853587  0.208399   0.0332632\n",
       " 0.143769   0.196643   0.256678      0.156557   0.20084    0.23667  \n",
       " 0.0738085  0.0339154  0.275271      0.228918   0.0298755  0.297184 "
      ]
     },
     "execution_count": 6,
     "metadata": {},
     "output_type": "execute_result"
    }
   ],
   "source": [
    "pvgh=condp((rand(V,H))) # emision matrix with sum(pvgh, 1) = 1 with pvgh[i, j] = p(vg = i | h = j)"
   ]
  },
  {
   "cell_type": "code",
   "execution_count": 7,
   "metadata": {
    "collapsed": false
   },
   "outputs": [],
   "source": [
    "h[1]=randgen(ph1) # initialize the hidden variable @t=1 with a random state based on ph1 distribution\n",
    "v[1]=randgen(pvgh[:,h[1]]) # initialize the visible variable @t=1 with a random state based on pvgh( vg | h@t=1)\n",
    "\n",
    "for t=2:T\n",
    "    h[t]=randgen(phghm[:,h[t-1]]) # set the hidden variable state @t based on h@t-1 using the transition matrix\n",
    "    v[t]=randgen(pvgh[:,h[t]]) # set the visible variable state @t based on h@t using the emission matrix\n",
    "end"
   ]
  },
  {
   "cell_type": "code",
   "execution_count": 8,
   "metadata": {
    "collapsed": false
   },
   "outputs": [
    {
     "name": "stdout",
     "output_type": "stream",
     "text": [
      "Log Likelihood = -31.478666424417938\n"
     ]
    }
   ],
   "source": [
    "(alpha, loglik) = HMMforward(v, phghm, ph1, pvgh); # filtering\n",
    "println(\"Log Likelihood = $loglik\")"
   ]
  },
  {
   "cell_type": "code",
   "execution_count": 9,
   "metadata": {
    "collapsed": false
   },
   "outputs": [
    {
     "data": {
      "text/plain": [
       "10x20 Array{Float64,2}:\n",
       " 4.97624e-5   0.00167822   0.893606     …  0.893606     0.000336707\n",
       " 0.000336707  4.97624e-5   0.00167822      0.00167822   0.893606   \n",
       " 0.0111985    0.0111985    0.0111985       0.0111985    0.0111985  \n",
       " 0.0919732    4.27125e-6   0.0919732       0.0919732    4.27125e-6 \n",
       " 4.27125e-6   0.0919732    4.27125e-6      4.27125e-6   0.0919732  \n",
       " 0.000629177  0.000123919  0.000399748  …  0.000629177  0.000123919\n",
       " 0.893606     0.000336707  4.97624e-5      4.97624e-5   0.00167822 \n",
       " 0.00167822   0.893606     0.000336707     0.000336707  4.97624e-5 \n",
       " 0.000123919  0.000399748  0.000629177     0.000123919  0.000399748\n",
       " 0.000399748  0.000629177  0.000123919     0.000399748  0.000629177"
      ]
     },
     "execution_count": 9,
     "metadata": {},
     "output_type": "execute_result"
    }
   ],
   "source": [
    "gamma = HMMsmooth(v, phghm, ph1, pvgh, alpha); # smoothing"
   ]
  },
  {
   "cell_type": "code",
   "execution_count": 10,
   "metadata": {
    "collapsed": false
   },
   "outputs": [
    {
     "name": "stdout",
     "output_type": "stream",
     "text": [
      "most likely path (viterbi):\n",
      "[7 8 1 2 7 8 1 2 7 8 1 2 7 8 1 2 7 8 1 2]\n"
     ]
    }
   ],
   "source": [
    "(maxstate, logprob) = HMMviterbi(v, phghm, ph1, pvgh)\n",
    "println(\"most likely path (viterbi):\")\n",
    "println(maxstate)"
   ]
  },
  {
   "cell_type": "code",
   "execution_count": 11,
   "metadata": {
    "collapsed": false
   },
   "outputs": [
    {
     "name": "stdout",
     "output_type": "stream",
     "text": [
      "original path (hidden states):\n",
      "Integer[7 8 1 2 7 8 1 2 7 8 1 2 7 8 1 2 7 8 1 2]\n"
     ]
    }
   ],
   "source": [
    "println(\"original path (hidden states):\")\n",
    "println(h)"
   ]
  },
  {
   "cell_type": "code",
   "execution_count": 12,
   "metadata": {
    "collapsed": false
   },
   "outputs": [
    {
     "name": "stdout",
     "output_type": "stream",
     "text": [
      "original path (visible states):\n",
      "Integer[2 2 1 1 5 2 5 4 5 5 1 2 3 5 3 2 2 5 3 3]\n"
     ]
    }
   ],
   "source": [
    "println(\"original path (visible states):\")\n",
    "println(v)"
   ]
  },
  {
   "cell_type": "code",
   "execution_count": 15,
   "metadata": {
    "collapsed": false
   },
   "outputs": [
    {
     "data": {
      "image/png": "[encoded data removed]",
      "text/plain": [
       "Figure(PyObject <matplotlib.figure.Figure object at 0x11a46f5d0>)"
      ]
     },
     "metadata": {},
     "output_type": "display_data"
    },
    {
     "data": {
      "text/plain": [
       "PyObject <matplotlib.collections.PolyCollection object at 0x11a4e7650>"
      ]
     },
     "execution_count": 15,
     "metadata": {},
     "output_type": "execute_result"
    }
   ],
   "source": [
    "    PyPlot.figure()\n",
    "    ax = PyPlot.subplot(2, 1, 1)\n",
    "    ax[:set_title](\"filtering\")\n",
    "    PyPlot.pcolor(alpha)\n",
    "    ax = PyPlot.subplot(2, 1, 2)\n",
    "    ax[:set_title](\"smoothing\")\n",
    "    PyPlot.pcolor(gamma)"
   ]
  },
  {
   "cell_type": "code",
   "execution_count": null,
   "metadata": {
    "collapsed": true
   },
   "outputs": [],
   "source": []
  }
 ],
 "metadata": {
  "kernelspec": {
   "display_name": "Julia 0.3.11",
   "language": "julia",
   "name": "julia-0.3"
  },
  "language_info": {
   "name": "julia",
   "version": "0.3.11"
  }
 },
 "nbformat": 4,
 "nbformat_minor": 0
}
